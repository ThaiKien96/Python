{
 "cells": [
  {
   "cell_type": "code",
   "execution_count": 18,
   "metadata": {},
   "outputs": [],
   "source": [
    "import cv2\n",
    "import numpy as np\n",
    "from matplotlib import pyplot as plt\n",
    "from os import listdir\n",
    "%matplotlib inline  \n",
    "\n",
    "SZ = 32\n",
    "SIZE = 32\n",
    "CLASS_N = 9\n",
    "CLASS_NUMBER = 9\n",
    "# local modules\n",
    "from common import clock, mosaic"
   ]
  },
  {
   "cell_type": "code",
   "execution_count": 5,
   "metadata": {},
   "outputs": [],
   "source": [
    "def load_traffic_dataset():\n",
    "    dataset = []\n",
    "    labels = []\n",
    "    for sign_type in range(CLASS_NUMBER):\n",
    "        sign_list = listdir(\"./source/Training/data/{}\".format(sign_type))\n",
    "        for sign_file in sign_list:\n",
    "            path = \"./source/Training/data/{}/{}\".format(sign_type,sign_file)\n",
    "            img = cv2.imread(path,0)\n",
    "            img = cv2.resize(img, (32,32))\n",
    "            img = np.reshape(img, [32,32])\n",
    "            dataset.append(img)\n",
    "            labels.append(sign_type)\n",
    "    return np.array(dataset), np.array(labels)"
   ]
  },
  {
   "cell_type": "code",
   "execution_count": 26,
   "metadata": {},
   "outputs": [
    {
     "name": "stdout",
     "output_type": "stream",
     "text": [
      "[' (1).png' ' (10).png' ' (11).png' ' (12).png' ' (13).png' ' (14).png'\n",
      " ' (15).png' ' (16).png' ' (17).png' ' (18).png' ' (19).png' ' (2).png'\n",
      " ' (20).png' ' (21).png' ' (22).png' ' (23).png' ' (24).png' ' (25).png'\n",
      " ' (26).png' ' (27).png' ' (28).png' ' (29).png' ' (3).png' ' (30).png'\n",
      " ' (31).png' ' (32).png' ' (33).png' ' (34).png' ' (35).png' ' (36).png'\n",
      " ' (37).png' ' (38).png' ' (39).png' ' (4).png' ' (40).png' ' (41).png'\n",
      " ' (42).png' ' (43).png' ' (44).png' ' (45).png' ' (46).png' ' (47).png'\n",
      " ' (48).png' ' (49).png' ' (5).png' ' (50).png' ' (51).png' ' (52).png'\n",
      " ' (53).png' ' (54).png' ' (55).png' ' (56).png' ' (57).png' ' (58).png'\n",
      " ' (59).png' ' (6).png' ' (60).png' ' (61).png' ' (62).png' ' (63).png'\n",
      " ' (64).png' ' (65).png' ' (66).png' ' (7).png' ' (8).png' ' (9).png']\n"
     ]
    }
   ],
   "source": [
    "from os import listdir\n",
    "\n",
    "print(np.array(listdir('./source/Training/data/2'))"
   ]
  },
  {
   "cell_type": "code",
   "execution_count": 67,
   "metadata": {},
   "outputs": [
    {
     "data": {
      "text/plain": [
       "(586, 81)"
      ]
     },
     "execution_count": 67,
     "metadata": {},
     "output_type": "execute_result"
    }
   ],
   "source": [
    "hog_descriptors.shape"
   ]
  },
  {
   "cell_type": "code",
   "execution_count": 8,
   "metadata": {
    "scrolled": true
   },
   "outputs": [
    {
     "name": "stdout",
     "output_type": "stream",
     "text": [
      "Loading digits from digits.png ... \n",
      "(586, 32, 32)\n",
      "Shuffle data ... \n",
      "Deskew images ... \n",
      "Defining HoG parameters ...\n",
      "Calculating HoG descriptor for every image ... \n",
      "Spliting data into training (90%) and test set (10%)... \n",
      "Training SVM model ...\n",
      "Saving SVM model ...\n",
      "Evaluating model ... \n",
      "[ 8.  8.  0.  0.  7.  7.  1.  6.  8.  8.  0.  7.  8.  0.  0.  0.  0.  8.\n",
      "  6.  8.  0.  8.  3.  8.  3.  0.  4.  4.  6.  0.  7.  0.  8.  2.  8.  0.\n",
      "  4.  4.  0.  0.  3.  4.  8.  4.  6.  0.  0.  7.  3.  0.  0.  7.  1.  0.\n",
      "  4.  3.  8.  1.  3.]\n",
      "Accuracy: 93.22 %\n",
      "confusion matrix:\n",
      "[[15  0  0  0  0  0  0  0  0  0]\n",
      " [ 0  3  0  0  0  0  0  0  0  0]\n",
      " [ 1  0  1  0  0  0  0  0  0  0]\n",
      " [ 0  0  0  6  0  0  0  0  0  0]\n",
      " [ 0  0  0  0  7  0  0  0  0  0]\n",
      " [ 2  0  0  0  0  0  0  0  0  0]\n",
      " [ 0  0  0  0  0  0  4  0  0  0]\n",
      " [ 1  0  0  0  0  0  0  6  0  0]\n",
      " [ 0  0  0  0  0  0  0  0 13  0]\n",
      " [ 0  0  0  0  0  0  0  0  0  0]]\n"
     ]
    }
   ],
   "source": [
    "def split2d(img, cell_size, flatten=True):\n",
    "    h, w = img.shape[:2]\n",
    "    sx, sy = cell_size\n",
    "    cells = [np.hsplit(row, w//sx) for row in np.vsplit(img, h//sy)]\n",
    "    cells = np.array(cells)\n",
    "    if flatten:\n",
    "        cells = cells.reshape(-1, sy, sx)\n",
    "    return cells\n",
    "\n",
    "def load_digits(fn):\n",
    "    digits_img = cv2.imread(fn, 0)\n",
    "    digits = split2d(digits_img, (SZ, SZ))\n",
    "    labels = np.repeat(np.arange(CLASS_N), len(digits)/CLASS_N)\n",
    "    return digits, labels\n",
    "\n",
    "def deskew(img):\n",
    "    m = cv2.moments(img)\n",
    "    if abs(m['mu02']) < 1e-2:\n",
    "        return img.copy()\n",
    "    skew = m['mu11']/m['mu02']\n",
    "    M = np.float32([[1, skew, -0.5*SZ*skew], [0, 1, 0]])\n",
    "    img = cv2.warpAffine(img, M, (SZ, SZ), flags=cv2.WARP_INVERSE_MAP | cv2.INTER_LINEAR)\n",
    "    return img\n",
    "\n",
    "class StatModel(object):\n",
    "    def load(self, fn):\n",
    "        self.model.load(fn)  # Known bug: https://github.com/opencv/opencv/issues/4969\n",
    "    def save(self, fn):\n",
    "        self.model.save(fn)\n",
    "\n",
    "class SVM(StatModel):\n",
    "    def __init__(self, C = 12.5, gamma = 0.50625):\n",
    "        self.model = cv2.ml.SVM_create()\n",
    "        self.model.setGamma(gamma)\n",
    "        self.model.setC(C)\n",
    "        self.model.setKernel(cv2.ml.SVM_RBF)\n",
    "        self.model.setType(cv2.ml.SVM_C_SVC)\n",
    "\n",
    "    def train(self, samples, responses):\n",
    "        self.model.train(samples, cv2.ml.ROW_SAMPLE, responses)\n",
    "\n",
    "    def predict(self, samples):\n",
    "\n",
    "        return self.model.predict(samples)[1].ravel()\n",
    "\n",
    "\n",
    "def evaluate_model(model, digits, samples, labels):\n",
    "    resp = model.predict(samples)\n",
    "    print(resp)\n",
    "    err = (labels != resp).mean()\n",
    "    print('Accuracy: %.2f %%' % ((1 - err)*100))\n",
    "\n",
    "    confusion = np.zeros((10, 10), np.int32)\n",
    "    for i, j in zip(labels, resp):\n",
    "        confusion[int(i), int(j)] += 1\n",
    "    print('confusion matrix:')\n",
    "    print(confusion)\n",
    "\n",
    "    vis = []\n",
    "    for img, flag in zip(digits, resp == labels):\n",
    "        img = cv2.cvtColor(img, cv2.COLOR_GRAY2BGR)\n",
    "        if not flag:\n",
    "            img[...,:2] = 0\n",
    "        \n",
    "        vis.append(img)\n",
    "    return mosaic(16, vis)\n",
    "\n",
    "def preprocess_simple(digits):\n",
    "    return np.float32(digits).reshape(-1, SZ*SZ) / 255.0\n",
    "\n",
    "\n",
    "def get_hog() : \n",
    "    winSize = (20,20)\n",
    "    blockSize = (10,10)\n",
    "    blockStride = (5,5)\n",
    "    cellSize = (10,10)\n",
    "    nbins = 9\n",
    "    derivAperture = 1\n",
    "    winSigma = -1.\n",
    "    histogramNormType = 0\n",
    "    L2HysThreshold = 0.2\n",
    "    gammaCorrection = 1\n",
    "    nlevels = 64\n",
    "    signedGradient = True\n",
    "\n",
    "    hog = cv2.HOGDescriptor(winSize,blockSize,blockStride,cellSize,nbins,derivAperture,winSigma,histogramNormType,L2HysThreshold,gammaCorrection,nlevels, signedGradient)\n",
    "\n",
    "    return hog\n",
    "    affine_flags = cv2.WARP_INVERSE_MAP|cv2.INTER_LINEAR\n",
    "\n",
    "\n",
    "\n",
    "if __name__ == '__main__':\n",
    "\n",
    "    print('Loading digits from digits.png ... ')\n",
    "    # Load data.\n",
    "    #digits, labels = load_digits('digits.png')\n",
    "    digits, labels = load_traffic_dataset()\n",
    "    print(digits.shape)\n",
    "    print('Shuffle data ... ')\n",
    "    # Shuffle data\n",
    "    rand = np.random.RandomState(10)\n",
    "    shuffle = rand.permutation(len(digits))\n",
    "    digits, labels = digits[shuffle], labels[shuffle]\n",
    "    \n",
    "    print('Deskew images ... ')\n",
    "    digits_deskewed = list(map(deskew, digits))\n",
    "    \n",
    "    print('Defining HoG parameters ...')\n",
    "    # HoG feature descriptor\n",
    "    hog = get_hog();\n",
    "\n",
    "    print('Calculating HoG descriptor for every image ... ')\n",
    "    hog_descriptors = []\n",
    "    for img in digits_deskewed:\n",
    "        hog_descriptors.append(hog.compute(img))\n",
    "    hog_descriptors = np.squeeze(hog_descriptors)\n",
    "    \n",
    "    print('Spliting data into training (90%) and test set (10%)... ')\n",
    "    train_n=int(0.9*len(hog_descriptors))\n",
    "    digits_train, digits_test = np.split(digits_deskewed, [train_n])\n",
    "    hog_descriptors_train, hog_descriptors_test = np.split(hog_descriptors, [train_n])\n",
    "    labels_train, labels_test = np.split(labels, [train_n])\n",
    "    \n",
    "    \n",
    "    print('Training SVM model ...')\n",
    "    model = SVM()\n",
    "    model.train(hog_descriptors_train, labels_train)\n",
    "\n",
    "    print('Saving SVM model ...')\n",
    "    model.save('digits_svm.dat')\n",
    "\n",
    "\n",
    "    print('Evaluating model ... ')\n",
    "    vis = evaluate_model(model, digits_test, hog_descriptors_test, labels_test)\n",
    "    cv2.imwrite(\"digits-classification.jpg\",vis)\n",
    "    cv2.imshow(\"Vis\", vis)\n",
    "    cv2.waitKey(0)"
   ]
  },
  {
   "cell_type": "code",
   "execution_count": 46,
   "metadata": {
    "collapsed": true
   },
   "outputs": [],
   "source": [
    "def getLabel(model, data):\n",
    "    cv2.LI\n",
    "    gray = cv2.cvtColor(data, cv2.COLOR_BGR2GRAY)\n",
    "    img = [cv2.resize(gray,(SIZE,SIZE))]\n",
    "    print(np.array(img).shape)\n",
    "    img_deskewed = list(map(deskew, img))\n",
    "    hog = get_hog()\n",
    "    hog_descriptors = np.array([hog.compute(img_deskewed[0])])\n",
    "    hog_descriptors = np.reshape(hog_descriptors, [-1, hog_descriptors.shape[1]])\n",
    "    return int(model.predict(hog_descriptors)[0])\n"
   ]
  },
  {
   "cell_type": "code",
   "execution_count": 47,
   "metadata": {},
   "outputs": [
    {
     "name": "stdout",
     "output_type": "stream",
     "text": [
      "(1, 32, 32)\n"
     ]
    },
    {
     "data": {
      "text/plain": [
       "4"
      ]
     },
     "execution_count": 47,
     "metadata": {},
     "output_type": "execute_result"
    }
   ],
   "source": [
    "getLabel(model, a)"
   ]
  },
  {
   "cell_type": "code",
   "execution_count": 39,
   "metadata": {
    "collapsed": true
   },
   "outputs": [],
   "source": [
    "a = cv2.imread(\"./source/Training/data/4/ (1).png\")"
   ]
  },
  {
   "cell_type": "code",
   "execution_count": null,
   "metadata": {
    "collapsed": true
   },
   "outputs": [],
   "source": [
    "b = cv2.imread()"
   ]
  },
  {
   "cell_type": "code",
   "execution_count": 13,
   "metadata": {},
   "outputs": [
    {
     "data": {
      "text/plain": [
       "(27, 32)"
      ]
     },
     "execution_count": 13,
     "metadata": {},
     "output_type": "execute_result"
    }
   ],
   "source": [
    "a.shape"
   ]
  },
  {
   "cell_type": "code",
   "execution_count": 32,
   "metadata": {},
   "outputs": [],
   "source": [
    "a = [cv2.resize(a, (32,32))]\n",
    "a_deskewed = list(map(deskew, a))"
   ]
  },
  {
   "cell_type": "code",
   "execution_count": 33,
   "metadata": {},
   "outputs": [
    {
     "data": {
      "text/plain": [
       "(586, 324)"
      ]
     },
     "execution_count": 33,
     "metadata": {},
     "output_type": "execute_result"
    }
   ],
   "source": [
    "hog_descriptors.shape"
   ]
  },
  {
   "cell_type": "code",
   "execution_count": 34,
   "metadata": {},
   "outputs": [],
   "source": [
    "h = get_hog()\n",
    "hs = np.array([h.compute(a_deskewed[0])])"
   ]
  },
  {
   "cell_type": "code",
   "execution_count": 35,
   "metadata": {},
   "outputs": [
    {
     "data": {
      "text/plain": [
       "(1, 324, 1)"
      ]
     },
     "execution_count": 35,
     "metadata": {},
     "output_type": "execute_result"
    }
   ],
   "source": [
    "hs.shape"
   ]
  },
  {
   "cell_type": "code",
   "execution_count": 42,
   "metadata": {
    "collapsed": true
   },
   "outputs": [],
   "source": [
    "hs = np.reshape(hs,[-1,81])"
   ]
  },
  {
   "cell_type": "code",
   "execution_count": 43,
   "metadata": {},
   "outputs": [
    {
     "ename": "error",
     "evalue": "C:\\ci\\opencv_1512688052760\\work\\modules\\ml\\src\\svm.cpp:2005: error: (-215) samples.cols == var_count && samples.type() == 5 in function cv::ml::SVMImpl::predict\n",
     "output_type": "error",
     "traceback": [
      "\u001b[1;31m---------------------------------------------------------------------------\u001b[0m",
      "\u001b[1;31merror\u001b[0m                                     Traceback (most recent call last)",
      "\u001b[1;32m<ipython-input-43-4cf7ce2fb0ae>\u001b[0m in \u001b[0;36m<module>\u001b[1;34m()\u001b[0m\n\u001b[1;32m----> 1\u001b[1;33m \u001b[0mmodel\u001b[0m\u001b[1;33m.\u001b[0m\u001b[0mpredict\u001b[0m\u001b[1;33m(\u001b[0m\u001b[0mhs\u001b[0m\u001b[1;33m)\u001b[0m\u001b[1;33m[\u001b[0m\u001b[1;36m0\u001b[0m\u001b[1;33m]\u001b[0m\u001b[1;33m\u001b[0m\u001b[0m\n\u001b[0m",
      "\u001b[1;32m<ipython-input-8-5e731b0e89ec>\u001b[0m in \u001b[0;36mpredict\u001b[1;34m(self, samples)\u001b[0m\n\u001b[0;32m     42\u001b[0m     \u001b[1;32mdef\u001b[0m \u001b[0mpredict\u001b[0m\u001b[1;33m(\u001b[0m\u001b[0mself\u001b[0m\u001b[1;33m,\u001b[0m \u001b[0msamples\u001b[0m\u001b[1;33m)\u001b[0m\u001b[1;33m:\u001b[0m\u001b[1;33m\u001b[0m\u001b[0m\n\u001b[0;32m     43\u001b[0m \u001b[1;33m\u001b[0m\u001b[0m\n\u001b[1;32m---> 44\u001b[1;33m         \u001b[1;32mreturn\u001b[0m \u001b[0mself\u001b[0m\u001b[1;33m.\u001b[0m\u001b[0mmodel\u001b[0m\u001b[1;33m.\u001b[0m\u001b[0mpredict\u001b[0m\u001b[1;33m(\u001b[0m\u001b[0msamples\u001b[0m\u001b[1;33m)\u001b[0m\u001b[1;33m[\u001b[0m\u001b[1;36m1\u001b[0m\u001b[1;33m]\u001b[0m\u001b[1;33m.\u001b[0m\u001b[0mravel\u001b[0m\u001b[1;33m(\u001b[0m\u001b[1;33m)\u001b[0m\u001b[1;33m\u001b[0m\u001b[0m\n\u001b[0m\u001b[0;32m     45\u001b[0m \u001b[1;33m\u001b[0m\u001b[0m\n\u001b[0;32m     46\u001b[0m \u001b[1;33m\u001b[0m\u001b[0m\n",
      "\u001b[1;31merror\u001b[0m: C:\\ci\\opencv_1512688052760\\work\\modules\\ml\\src\\svm.cpp:2005: error: (-215) samples.cols == var_count && samples.type() == 5 in function cv::ml::SVMImpl::predict\n"
     ]
    }
   ],
   "source": [
    "model.predict(hs)[0]"
   ]
  },
  {
   "cell_type": "code",
   "execution_count": 3,
   "metadata": {},
   "outputs": [
    {
     "data": {
      "text/plain": [
       "<matplotlib.image.AxesImage at 0x234e8e65630>"
      ]
     },
     "execution_count": 3,
     "metadata": {},
     "output_type": "execute_result"
    },
    {
     "data": {
      "image/png": "[encoded data removed]",
      "text/plain": [
       "<matplotlib.figure.Figure at 0x234e72ad390>"
      ]
     },
     "metadata": {},
     "output_type": "display_data"
    }
   ],
   "source": [
    "plt.imshow(a)"
   ]
  },
  {
   "cell_type": "code",
   "execution_count": 3,
   "metadata": {},
   "outputs": [],
   "source": [
    "font = cv2.FONT_HERSHEY_PLAIN\n",
    "cv2.putText(a,'OpenCV',(10,10), font, 4,(255,255,255),2,cv2.LINE_AA)\n",
    "cv2.imshow(\"Test\",a)"
   ]
  }
 ],
 "metadata": {
  "kernelspec": {
   "display_name": "Python 3",
   "language": "python",
   "name": "python3"
  },
  "language_info": {
   "codemirror_mode": {
    "name": "ipython",
    "version": 3
   },
   "file_extension": ".py",
   "mimetype": "text/x-python",
   "name": "python",
   "nbconvert_exporter": "python",
   "pygments_lexer": "ipython3",
   "version": "3.6.3"
  }
 },
 "nbformat": 4,
 "nbformat_minor": 2
}
